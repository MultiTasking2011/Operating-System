{
 "cells": [
  {
   "cell_type": "code",
   "execution_count": 1,
   "metadata": {},
   "outputs": [],
   "source": [
    "from nltk import NaiveBayesClassifier\n",
    "from nltk.classify.util import accuracy\n",
    "from nltk.tokenize import word_tokenize\n",
    "from nltk.corpus import stopwords\n",
    "from nltk.chat.util import Chat, reflections\n",
    "from transformers import GPT2LMHeadModel, GPT2Tokenizer, Trainer, TrainingArguments\n",
    "from datasets import Dataset\n",
    "from nltk.stem import WordNetLemmatizer\n",
    "import nltk\n",
    "import random\n",
    "import ssl"
   ]
  },
  {
   "cell_type": "code",
   "execution_count": 2,
   "metadata": {},
   "outputs": [
    {
     "name": "stderr",
     "output_type": "stream",
     "text": [
      "[nltk_data] Downloading package punkt to\n",
      "[nltk_data]     /Users/multitasking/nltk_data...\n",
      "[nltk_data]   Package punkt is already up-to-date!\n",
      "[nltk_data] Downloading package stopwords to\n",
      "[nltk_data]     /Users/multitasking/nltk_data...\n",
      "[nltk_data]   Unzipping corpora/stopwords.zip.\n",
      "[nltk_data] Downloading package wordnet to\n",
      "[nltk_data]     /Users/multitasking/nltk_data...\n"
     ]
    },
    {
     "data": {
      "text/plain": [
       "True"
      ]
     },
     "execution_count": 2,
     "metadata": {},
     "output_type": "execute_result"
    }
   ],
   "source": [
    "try:\n",
    "    _create_unverified_https_context = ssl._create_unverified_context\n",
    "    ssl._create_default_https_context = _create_unverified_https_context\n",
    "except AttributeError:\n",
    "    pass\n",
    "\n",
    "nltk.download('punkt')\n",
    "nltk.download('stopwords')\n",
    "nltk.download('wordnet')"
   ]
  },
  {
   "cell_type": "code",
   "execution_count": 3,
   "metadata": {},
   "outputs": [
    {
     "name": "stdout",
     "output_type": "stream",
     "text": [
      "Bot: You're welcome!\n",
      "Bot: You're welcome!\n",
      "Bot: You're welcome!\n",
      "Bot: You're welcome!\n",
      "Bot: You're welcome!\n",
      "Bot: You're welcome!\n",
      "Bot: You're welcome!\n",
      "Bot: Goodbye!\n"
     ]
    }
   ],
   "source": [
    "training_data = [\n",
    "    (\"hello\", \"greeting\"),\n",
    "    (\"hi there\", \"greeting\"),\n",
    "    (\"how are you\", \"question\"),\n",
    "    (\"what is your name\", \"question\"),\n",
    "    (\"bye\", \"farewell\"),\n",
    "    (\"see you later\", \"farewell\"),\n",
    "    (\"thank you\", \"thanks\"),\n",
    "    (\"thanks a lot\", \"thanks\"),\n",
    "]\n",
    "\n",
    "def extract_features(text):\n",
    "    words = word_tokenize(text.lower())\n",
    "    return {word: True for word in words} \n",
    "\n",
    "\n",
    "\n",
    "# Prepare training data\n",
    "training_set = [(extract_features(text), label) for text, label in training_data]\n",
    "\n",
    "# Train the Naive Bayes Classifier\n",
    "classifier = NaiveBayesClassifier.train(training_set)\n",
    "\n",
    "# Test the chatbot with new inputs\n",
    "def chatbot_response(user_input):\n",
    "    features = extract_features(user_input)\n",
    "    intent = classifier.classify(features)\n",
    "    \n",
    "    # Define responses for each intent\n",
    "    responses = {\n",
    "        \"greeting\": \"Hello! How can I help you?\",\n",
    "        \"question\": \"I'm here to answer your questions!\",\n",
    "        \"question\": \"I'm good, i think\",\n",
    "        \"farewell\": \"Goodbye! Have a great day!\",\n",
    "        \"thanks\": \"You're welcome!\",\n",
    "    }\n",
    "    return responses.get(intent, \"I'm sorry, I didn't understand that.\")\n",
    "\n",
    "# Example usage\n",
    "while True:\n",
    "    user_input = input(\"You: \")\n",
    "    if user_input.lower() in [\"exit\", \"quit\", \"bye\"]:\n",
    "        print(\"Bot: Goodbye!\")\n",
    "        break\n",
    "    print(\"Bot:\", chatbot_response(user_input))\n"
   ]
  },
  {
   "cell_type": "code",
   "execution_count": 4,
   "metadata": {},
   "outputs": [
    {
     "name": "stdout",
     "output_type": "stream",
     "text": [
      "Chatbot: Hi, I'm your chatbot. Type 'quit' to exit.\n",
      "None\n",
      "Hi there!\n",
      "Hi there!\n",
      "Hello!\n",
      "Hi there!\n",
      "I'm good, how about you?\n",
      "None\n",
      "None\n",
      "It was nice talking to you!\n"
     ]
    }
   ],
   "source": [
    "pairs = [\n",
    "    (r\"hi|hello|hey\", [\"Hello!\", \"Hi there!\", \"Hey!\"]),\n",
    "    (r\"how are you?\", [\"I'm doing well, thank you!\", \"I'm good, how about you?\"]),\n",
    "    (r\"what is your name?\", [\"I'm a chatbot created using NLTK.\"]),\n",
    "    (r\"quit\", [\"Goodbye!\", \"It was nice talking to you!\"]),\n",
    "]\n",
    "\n",
    "# Create a chatbot instance\n",
    "chatbot = Chat(pairs, reflections)\n",
    "\n",
    "# Start the chat\n",
    "print(\"Chatbot: Hi, I'm your chatbot. Type 'quit' to exit.\")\n",
    "chatbot.converse()"
   ]
  },
  {
   "cell_type": "code",
   "execution_count": 5,
   "metadata": {},
   "outputs": [
    {
     "name": "stdout",
     "output_type": "stream",
     "text": [
      "Intent: gratitude\n"
     ]
    }
   ],
   "source": [
    "# Training data: (features, intent)\n",
    "training_data = [\n",
    "    ({\"greet\": True}, \"greeting\"),\n",
    "    ({\"bye\": True}, \"farewell\"),\n",
    "    ({\"thanks\": True}, \"gratitude\"),\n",
    "]\n",
    "\n",
    "# Train the model\n",
    "model = NaiveBayesClassifier.train(training_data)\n",
    "\n",
    "# Test the model\n",
    "test_data = {\"thanks\": True}\n",
    "intent = model.classify(test_data)\n",
    "print(\"Intent:\", intent)\n"
   ]
  },
  {
   "cell_type": "code",
   "execution_count": null,
   "metadata": {},
   "outputs": [],
   "source": []
  }
 ],
 "metadata": {
  "kernelspec": {
   "display_name": "Python 3",
   "language": "python",
   "name": "python3"
  },
  "language_info": {
   "codemirror_mode": {
    "name": "ipython",
    "version": 3
   },
   "file_extension": ".py",
   "mimetype": "text/x-python",
   "name": "python",
   "nbconvert_exporter": "python",
   "pygments_lexer": "ipython3",
   "version": "3.11.4"
  }
 },
 "nbformat": 4,
 "nbformat_minor": 2
}
